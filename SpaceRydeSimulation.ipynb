{
  "nbformat": 4,
  "nbformat_minor": 0,
  "metadata": {
    "colab": {
      "name": "SpaceRydeSimulation.ipynb",
      "provenance": [],
      "collapsed_sections": [],
      "authorship_tag": "ABX9TyO9FkGG8o6WGcVOU8KFIrQS",
      "include_colab_link": true
    },
    "kernelspec": {
      "name": "python3",
      "display_name": "Python 3"
    },
    "language_info": {
      "name": "python"
    }
  },
  "cells": [
    {
      "cell_type": "markdown",
      "metadata": {
        "id": "view-in-github",
        "colab_type": "text"
      },
      "source": [
        "<a href=\"https://colab.research.google.com/github/nsimm22/Qlue/blob/master/SpaceRydeSimulation.ipynb\" target=\"_parent\"><img src=\"https://colab.research.google.com/assets/colab-badge.svg\" alt=\"Open In Colab\"/></a>"
      ]
    },
    {
      "cell_type": "code",
      "metadata": {
        "id": "LqVlZPvgzXWt"
      },
      "source": [
        "import numpy as np\n",
        "import pandas as pd\n",
        "import matplotlib.pyplot as plt"
      ],
      "execution_count": 67,
      "outputs": []
    },
    {
      "cell_type": "code",
      "metadata": {
        "id": "DAyvxoDm0oFs"
      },
      "source": [
        "#constants\n",
        "Ft = 10000 #Thrust Force [N]\n",
        "Mp = 10 #Payload Mass [kg]\n",
        "Me = 15 #Engine Mass [kg]\n",
        "rhoA = 2.70e3 #Density of 6061 T6 Al [kg/m^3]\n",
        "rhoAir = 1.225\n",
        "uts = 290e6 #ultimate tensile strength of 6061 T6 Al [Pa]\n",
        "tb = 0.002 #thickness of body [m]\n",
        "Ptank = 2.5e6 #tank operating pressure [Pa]\n",
        "Isp = 250 #specific impulse [s]\n",
        "g = 9.81 #accel due to gravity [m/s^2]\n",
        "t = 100\n",
        "rhoOx = 1140 #Density of Oxidizer [kg/m^3]\n",
        "rhoKer = 820.1 #Density of Kerosene [kg/m^3]\n",
        "Cd = 0.75 #estimated coefficient of drag"
      ],
      "execution_count": 68,
      "outputs": []
    },
    {
      "cell_type": "code",
      "metadata": {
        "colab": {
          "base_uri": "https://localhost:8080/"
        },
        "id": "ML2bNX2hApVy",
        "outputId": "daedc815-b74a-4ed2-e566-5f303db856b5"
      },
      "source": [
        "#Fuel Calcs\n",
        "mdot_tot = Ft/(Isp*g) #mass flow rate in kg/s\n",
        "\n",
        "#ASSUMING Fuel ratio was a mass ratio\n",
        "mdot_Ox = mdot_tot * (2.5/3.5)#mass flow rate of Oxidizer [kg/s]\n",
        "mdot_Ker = mdot_tot * (1/3.5) #mass flow rate of kerosene [kg/s]\n",
        "m_Ox = mdot_Ox * t \n",
        "m_Ker = mdot_Ker * t\n",
        "vol_Ox = m_Ox/rhoOx\n",
        "vol_Ker = m_Ker/rhoKer\n",
        "vol_tot = vol_Ker + vol_Ox\n",
        "print(\"Total Volume Req [m^3]: \" + str(vol_tot))"
      ],
      "execution_count": 69,
      "outputs": [
        {
          "output_type": "stream",
          "text": [
            "Total Volume Req [m^3]: 0.39753556993125294\n"
          ],
          "name": "stdout"
        }
      ]
    },
    {
      "cell_type": "code",
      "metadata": {
        "id": "jKqHUAYx0lDc"
      },
      "source": [
        "#Calculates Force of Drag based on the coefficient of drag, density, velocity and cross-sectional area\n",
        "def Fdrag(rho, v, Ac):\n",
        "  return (0.5*rho*Ac*Cd*(v**2)) #N\n",
        "\n",
        "#Calculates Force of Gravity based on total mass and gravity\n",
        "def Fgrav(m, g):\n",
        "  return (m*g)\n",
        "\n",
        "#calculates the mass of a hollow cylinder - used for the body\n",
        "def Mbody(r, h):\n",
        "  cyl = np.pi*2*r*tb*h*rhoA\n",
        "  tip = ((np.pi*h*r**2)/3) - ((np.pi*(h-tb)*(r-tb)**2)/3)\n",
        "  return (cyl + tip)\n",
        "\n",
        "def tank_specs(r, h):\n",
        "  tank_thickness = (r*Ptank)/(2*uts*np.sqrt(3))\n",
        "  max_vol = h*0.50*np.pi*r**2\n",
        "  height = 0.50*h\n",
        "  SA = (2*np.pi*r**2) + (2*np.pi*r)*height\n",
        "  mass = SA*tank_thickness\n",
        "  return(max_vol, mass, tank_thickness)\n",
        "\n"
      ],
      "execution_count": 70,
      "outputs": []
    },
    {
      "cell_type": "code",
      "metadata": {
        "id": "V3e-ki7Uzcnp"
      },
      "source": [
        "def rocket_launch(r, h, fuel_percent, t):\n",
        "  \n",
        "  t = t\n",
        "  time = np.linspace(0,t,int(t*100))\n",
        "\n",
        "  V = np.zeros(len(time))\n",
        "  a = np.zeros(len(time))\n",
        "  p = np.zeros(len(time))\n",
        "  Fnet = np.zeros(len(time))\n",
        "  Fg = np.zeros(len(time))\n",
        "  Fd = np.zeros(len(time))\n",
        "  Mi = np.zeros(len(time))\n",
        "  v = np.zeros(len(time))\n",
        "\n",
        "  #Set constants for each test\n",
        "  Mb = Mbody(r, h) \n",
        "  Ac = np.pi*r**2\n",
        "  max_vol, Mtank, tank_thickness = tank_specs(r, h)\n",
        "  mCur_Ox = max_vol*fuel_percent * (2.22e-3)/(1.22e-3 + 2.22e-3) * rhoOx\n",
        "  mCur_Ker = max_vol*fuel_percent * (1.22e-3)/(1.22e-3 + 2.22e-3) * rhoKer\n",
        "  #set initial mass and gravitational force\n",
        "  Mi[0] = Mtank + Me + Mp + Mb + mCur_Ox + mCur_Ker\n",
        "  Fg[0] = Mi[0]*9.81 \n",
        "  #set thrust to 10,000N\n",
        "  Ft = 10000\n",
        "\n",
        "  #check that thrust is 3 x the weight\n",
        "  if(Mi[0]*g > 10000/3):\n",
        "    index = 0\n",
        "    return (p, v, a, Fnet, Fg, Fd, Mi, index)\n",
        "    \n",
        "  for i in range(len(time)-1):\n",
        "    #Mass Updates\n",
        "    if(mCur_Ox < 0 or mCur_Ker < 0):\n",
        "      Ft = 0\n",
        "      mCur_Ox = 0\n",
        "      mCur_Ker = 0\n",
        "    else:\n",
        "      mCur_Ox = mCur_Ox - mdot_Ox*(time[1] - time[0])\n",
        "      mCur_Ker = mCur_Ker - mdot_Ker*(time[1] - time[0])\n",
        "    Mi[i] = Mtank + Me + Mp + Mb + mCur_Ox + mCur_Ker \n",
        "    #Force Updates\n",
        "    Fg[i] = Fgrav(Mi[i], 9.81)\n",
        "    Fd[i] = Fdrag(rhoAir, v[i], Ac)\n",
        "    Fnet[i] = Ft - Fg[i] - Fd[i]\n",
        "    #Kinematics\n",
        "    a[i+1] = Fnet[i]/Mi[i]\n",
        "    v[i + 1] = v[i] + a[i+1]*(time[1] - time[0])\n",
        "    p[i + 1] = p[i] + v[i+1]*(time[1] - time[0])\n",
        "    if(v[i+1] < 0):\n",
        "      index = i\n",
        "      break;\n",
        "  index = i\n",
        "  return (p, v, a, Fnet, Fg, Fd, Mi, index)"
      ],
      "execution_count": 71,
      "outputs": []
    },
    {
      "cell_type": "code",
      "metadata": {
        "id": "cLXgnfMVaIRo"
      },
      "source": [
        "from scipy.optimize import fmin_cobyla\n",
        "\n",
        "def objective(X):\n",
        "    '''objective function to minimize. It is the negative of profit,\n",
        "    which we seek to maximize.'''\n",
        "    r, h, fuel_percent,t = X\n",
        "    p, v, a, Fnet, Fg, Fd, Mi, i = rocket_launch(r, h, fuel_percent, t)\n",
        "    return -(max(v))\n",
        "\n",
        "def c1(X):\n",
        "    #ensure L/D ratio > 4\n",
        "    r, h, fuel_percent, t = X\n",
        "    return -4 + (h)/(r*2)\n",
        "\n",
        "def c2(X):\n",
        "    #ensure fuel percent is < 1.0\n",
        "    r, h, fuel_percent, t = X\n",
        "    return 1.0 - fuel_percent\n",
        "\n",
        "def c3(X):\n",
        "    #ensure max weight is less then 3,333\n",
        "    r, h, fuel_percent, t = X\n",
        "    max_vol, Mtank, tank_thickness = tank_specs(r, h)\n",
        "    Mb = Mbody(r, h)\n",
        "    mCur_Ox = max_vol*fuel_percent * (2.22e-3)/(1.22e-3 + 2.22e-3) * rhoOx\n",
        "    mCur_Ker = max_vol*fuel_percent * (1.22e-3)/(1.22e-3 + 2.22e-3) * rhoKer\n",
        "    M = Mtank + Me + Mp + Mb + mCur_Ox + mCur_Ker\n",
        "    return (10000/3) - (M*g)\n",
        "\n",
        "def c4(X):\n",
        "    #ensure L/D ratio < 25\n",
        "    r, h, fuel_percent, t = X\n",
        "    return 25 - (h)/(r*2)\n",
        "\n",
        "def c5(X):\n",
        "    r, h, fuel_percent,t = X\n",
        "    return -10 + t\n",
        "\n",
        "def c6(X):\n",
        "    #ensure L/D ratio > 4\n",
        "    r, h, fuel_percent, t = X\n",
        "    return r\n",
        "def c7(X):\n",
        "    #ensure L/D ratio > 4\n",
        "    r, h, fuel_percent, t = X\n",
        "    return h"
      ],
      "execution_count": 72,
      "outputs": []
    },
    {
      "cell_type": "markdown",
      "metadata": {
        "id": "SSgvmuZTTqD8"
      },
      "source": [
        "Optimization of Max Velocity\n"
      ]
    },
    {
      "cell_type": "code",
      "metadata": {
        "colab": {
          "base_uri": "https://localhost:8080/"
        },
        "id": "TaS1xnMkTmT1",
        "outputId": "b15c125d-8570-410a-a6fc-d7f97dd6de67"
      },
      "source": [
        "max_specs = [0,0,0,0]\n",
        "maximum = 0\n",
        "\n",
        "for i in range(10, 100, 4):\n",
        "  print(\"checking \" + str(i))\n",
        "  X = fmin_cobyla(objective, x0=[0.2 + 0.001*i, 2.0+0.01*i, 0.5, i], cons=[c1, c2, c3, c4, c5, c6, c7])\n",
        "  if(-objective(X) > maximum):\n",
        "    max_specs = X\n",
        "    maximum = -objective(X)"
      ],
      "execution_count": 73,
      "outputs": [
        {
          "output_type": "stream",
          "text": [
            "checking 10\n"
          ],
          "name": "stdout"
        },
        {
          "output_type": "stream",
          "text": [
            "/usr/local/lib/python3.7/dist-packages/ipykernel_launcher.py:13: RuntimeWarning: divide by zero encountered in double_scalars\n",
            "  del sys.path[0]\n",
            "/usr/local/lib/python3.7/dist-packages/ipykernel_launcher.py:33: RuntimeWarning: divide by zero encountered in double_scalars\n"
          ],
          "name": "stderr"
        },
        {
          "output_type": "stream",
          "text": [
            "checking 14\n",
            "checking 18\n",
            "checking 22\n",
            "checking 26\n",
            "checking 30\n",
            "checking 34\n",
            "checking 38\n",
            "checking 42\n",
            "checking 46\n",
            "checking 50\n",
            "checking 54\n",
            "checking 58\n",
            "checking 62\n",
            "checking 66\n",
            "checking 70\n",
            "checking 74\n",
            "checking 78\n",
            "checking 82\n",
            "checking 86\n",
            "checking 90\n",
            "checking 94\n",
            "checking 98\n"
          ],
          "name": "stdout"
        }
      ]
    },
    {
      "cell_type": "code",
      "metadata": {
        "colab": {
          "base_uri": "https://localhost:8080/"
        },
        "id": "p7qzvlnTcsnn",
        "outputId": "ad82a7f5-0751-4e59-9cab-c43891f80e1b"
      },
      "source": [
        "p, v, a, Fnet, Fg, Fd, Mi, i = rocket_launch(max_specs[0], max_specs[1], max_specs[2], max_specs[3])\n",
        "vels = list(v)\n",
        "max_value = max(vels)\n",
        "max_index = vels.index(max_value)\n",
        "print('Radius of {0:1.2f} m.'.format(max_specs[0]))\n",
        "print('Rocket height of {0:1.2f} m'.format(max_specs[1]))\n",
        "print('Fuel Tank Percent {0:1.2f}% '.format(max_specs[2]*100))\n",
        "print('Burn Time:  {0:4f} s '.format(max_index / 100))\n",
        "print('Max Height:  {0:1.2f} m '.format(p[i]))\n",
        "print('Starting Weight:  {0:1.2f} N '.format(Fg[0]))\n",
        "print(\"Fuel tank thickness : {0:1.4f} mm\".format(tank_specs(max_specs[0], max_specs[1])[2]*1000))\n",
        "print(\"Fuel tank volume : {0:1.3f} m^3\".format(tank_specs(max_specs[0], max_specs[1])[0]))\n",
        "print(\"Quantity of Fuel : {0:1.3f} m^3\".format(tank_specs(max_specs[0], max_specs[1])[0]*max_specs[2]))\n",
        "print('Max Velocity Attained {0:1.2f} m/s.'.format(max(v)))\n",
        "print('Avg Velocity Attained {0:1.2f} m/s.'.format(np.mean(v)))"
      ],
      "execution_count": 74,
      "outputs": [
        {
          "output_type": "stream",
          "text": [
            "Radius of 0.08 m.\n",
            "Rocket height of 2.53 m\n",
            "Fuel Tank Percent 95.57% \n",
            "Burn Time:  5.800000 s \n",
            "Max Height:  8474.55 m \n",
            "Starting Weight:  544.72 N \n",
            "Fuel tank thickness : 0.1946 mm\n",
            "Fuel tank volume : 0.024 m^3\n",
            "Quantity of Fuel : 0.023 m^3\n",
            "Max Velocity Attained 886.43 m/s.\n",
            "Avg Velocity Attained 157.23 m/s.\n"
          ],
          "name": "stdout"
        }
      ]
    },
    {
      "cell_type": "code",
      "metadata": {
        "colab": {
          "base_uri": "https://localhost:8080/",
          "height": 296
        },
        "id": "zv2Pfj-geX-c",
        "outputId": "545e348d-7af4-49af-9377-d5ca8efee30e"
      },
      "source": [
        "time = np.linspace(0,X[3], int(X[3]*100))\n",
        "#plt.plot(time[:i], p[:i], label=\"Position [m]\")\n",
        "plt.plot(time[:i], v[:i], label=\"Velocity [m/s]\")\n",
        "#plt.plot(time[:i], a[:i], label=\"Acceleration[m/s^2]\")\n",
        "plt.plot(time[:i], Fnet[:i], label=\"Force[N]\")\n",
        "#plt.plot(time[:i], Fg[:i], label=\"Gravitational Force[N]\")\n",
        "plt.plot(time[:i], Fd[:i], label=\"Drag[M]\")\n",
        "#plt.plot(time[:i], Mi[:i], label=\"Mass [Kg]\")\n",
        "plt.legend(bbox_to_anchor=(1.05, 1), loc='upper left')\n",
        "plt.xlabel(\"Time [S]\")"
      ],
      "execution_count": 75,
      "outputs": [
        {
          "output_type": "execute_result",
          "data": {
            "text/plain": [
              "Text(0.5, 0, 'Time [S]')"
            ]
          },
          "metadata": {
            "tags": []
          },
          "execution_count": 75
        },
        {
          "output_type": "display_data",
          "data": {
            "image/png": "[encoded data removed]",
            "text/plain": [
              "<Figure size 432x288 with 1 Axes>"
            ]
          },
          "metadata": {
            "tags": [],
            "needs_background": "light"
          }
        }
      ]
    },
    {
      "cell_type": "markdown",
      "metadata": {
        "id": "pGZHRCuKDOoa"
      },
      "source": [
        "Optimization of Height"
      ]
    },
    {
      "cell_type": "code",
      "metadata": {
        "id": "5SspovqjscRl"
      },
      "source": [
        "def objective(X):\n",
        "    '''objective function to minimize. It is the negative of profit,\n",
        "    which we seek to maximize.'''\n",
        "    r, h, fuel_percent,t = X\n",
        "    p, v, a, Fnet, Fg, Fd, Mi, i = rocket_launch(r, h, fuel_percent, t)\n",
        "    return -(max(p))"
      ],
      "execution_count": 76,
      "outputs": []
    },
    {
      "cell_type": "code",
      "metadata": {
        "colab": {
          "base_uri": "https://localhost:8080/"
        },
        "id": "0jRNYj00sdJI",
        "outputId": "8763286a-b55d-4b6a-c6ed-438c8274d6e0"
      },
      "source": [
        "max_specs = [0,0,0,0]\n",
        "maximum = 0\n",
        "\n",
        "for i in range(10, 100, 4):\n",
        "  print(\"checking \" + str(i))\n",
        "  X = fmin_cobyla(objective, x0=[0.2 + 0.001*i, 2.0+0.01*i, 0.5, i], cons=[c1, c2, c3, c4, c5, c6, c7])\n",
        "  if(-objective(X) > maximum):\n",
        "    max_specs = X\n",
        "    maximum = -objective(X)"
      ],
      "execution_count": 77,
      "outputs": [
        {
          "output_type": "stream",
          "text": [
            "checking 10\n"
          ],
          "name": "stdout"
        },
        {
          "output_type": "stream",
          "text": [
            "/usr/local/lib/python3.7/dist-packages/ipykernel_launcher.py:13: RuntimeWarning: divide by zero encountered in double_scalars\n",
            "  del sys.path[0]\n",
            "/usr/local/lib/python3.7/dist-packages/ipykernel_launcher.py:33: RuntimeWarning: divide by zero encountered in double_scalars\n"
          ],
          "name": "stderr"
        },
        {
          "output_type": "stream",
          "text": [
            "checking 14\n",
            "checking 18\n",
            "checking 22\n",
            "checking 26\n",
            "checking 30\n",
            "checking 34\n",
            "checking 38\n",
            "checking 42\n",
            "checking 46\n",
            "checking 50\n",
            "checking 54\n",
            "checking 58\n",
            "checking 62\n",
            "checking 66\n",
            "checking 70\n",
            "checking 74\n",
            "checking 78\n",
            "checking 82\n",
            "checking 86\n",
            "checking 90\n",
            "checking 94\n",
            "checking 98\n"
          ],
          "name": "stdout"
        }
      ]
    },
    {
      "cell_type": "code",
      "metadata": {
        "colab": {
          "base_uri": "https://localhost:8080/"
        },
        "id": "2gNiUI-YsfTT",
        "outputId": "91966b7b-038f-4fba-8e5e-fb1b01d21fa2"
      },
      "source": [
        "p, v, a, Fnet, Fg, Fd, Mi, i = rocket_launch(max_specs[0], max_specs[1], max_specs[2], max_specs[3])\n",
        "vels = list(v)\n",
        "max_value = max(vels)\n",
        "max_index = vels.index(max_value)\n",
        "print('Radius of {0:1.2f} m.'.format(max_specs[0]))\n",
        "print('Rocket height of {0:1.2f} m'.format(max_specs[1]))\n",
        "print('Fuel Tank Percent {0:1.2f}% '.format(max_specs[2]*100))\n",
        "print('Burn Time:  {0:4f} s '.format(max_index / 100))\n",
        "print('Max Height:  {0:1.2f} m '.format(p[i]))\n",
        "print('Starting Weight:  {0:1.2f} N '.format(Fg[0]))\n",
        "print(\"Fuel tank thickness : {0:1.4f} mm\".format(tank_specs(max_specs[0], max_specs[1])[2]*1000))\n",
        "print(\"Fuel tank volume : {0:1.3f} m^3\".format(tank_specs(max_specs[0], max_specs[1])[0]))\n",
        "print(\"Quantity of Fuel : {0:1.3f} m^3\".format(tank_specs(max_specs[0], max_specs[1])[0]*max_specs[2]))\n",
        "print('Max Velocity Attained {0:1.2f} m/s.'.format(max(v)))\n",
        "print('Avg Velocity Attained {0:1.2f} m/s.'.format(np.mean(v)))"
      ],
      "execution_count": 78,
      "outputs": [
        {
          "output_type": "stream",
          "text": [
            "Radius of 0.21 m.\n",
            "Rocket height of 4.01 m\n",
            "Fuel Tank Percent 99.40% \n",
            "Burn Time:  69.500000 s \n",
            "Max Height:  22244.54 m \n",
            "Starting Weight:  3330.15 N \n",
            "Fuel tank thickness : 0.5251 mm\n",
            "Fuel tank volume : 0.280 m^3\n",
            "Quantity of Fuel : 0.278 m^3\n",
            "Max Velocity Attained 382.51 m/s.\n",
            "Avg Velocity Attained 285.75 m/s.\n"
          ],
          "name": "stdout"
        }
      ]
    },
    {
      "cell_type": "code",
      "metadata": {
        "colab": {
          "base_uri": "https://localhost:8080/",
          "height": 296
        },
        "id": "hRyKI7-fsiV8",
        "outputId": "72c3861b-f2c1-4be3-922d-67ec1324a811"
      },
      "source": [
        "time = np.linspace(0,X[3], int(X[3]*100))\n",
        "#plt.plot(time[:i], p[:i], label=\"Position [m]\")\n",
        "plt.plot(time[:i], v[:i], label=\"Velocity [m/s]\")\n",
        "#plt.plot(time[:i], a[:i], label=\"Acceleration[m/s^2]\")\n",
        "plt.plot(time[:i], Fnet[:i], label=\"Force[N]\")\n",
        "#plt.plot(time[:i], Fg[:i], label=\"Gravitational Force[N]\")\n",
        "plt.plot(time[:i], Fd[:i], label=\"Drag[M]\")\n",
        "#plt.plot(time[:i], Mi[:i], label=\"Mass [Kg]\")\n",
        "plt.legend(bbox_to_anchor=(1.05, 1), loc='upper left')\n",
        "plt.xlabel(\"Time [S]\")\n"
      ],
      "execution_count": 79,
      "outputs": [
        {
          "output_type": "execute_result",
          "data": {
            "text/plain": [
              "Text(0.5, 0, 'Time [S]')"
            ]
          },
          "metadata": {
            "tags": []
          },
          "execution_count": 79
        },
        {
          "output_type": "display_data",
          "data": {
            "image/png": "[encoded data removed]",
            "text/plain": [
              "<Figure size 432x288 with 1 Axes>"
            ]
          },
          "metadata": {
            "tags": [],
            "needs_background": "light"
          }
        }
      ]
    },
    {
      "cell_type": "markdown",
      "metadata": {
        "id": "h8g04iGIDUv5"
      },
      "source": [
        "Optimization of Average Velocity"
      ]
    },
    {
      "cell_type": "code",
      "metadata": {
        "id": "JJaVR644su03"
      },
      "source": [
        "def objective(X):\n",
        "    '''objective function to minimize. It is the negative of profit,\n",
        "    which we seek to maximize.'''\n",
        "    r, h, fuel_percent,t = X\n",
        "    p, v, a, Fnet, Fg, Fd, Mi, i = rocket_launch(r, h, fuel_percent, t)\n",
        "    return -(np.mean(v))"
      ],
      "execution_count": 80,
      "outputs": []
    },
    {
      "cell_type": "code",
      "metadata": {
        "colab": {
          "base_uri": "https://localhost:8080/"
        },
        "id": "rbolIQ35su04",
        "outputId": "03a2cb61-e2f2-46f5-b54f-5f93e9300cf3"
      },
      "source": [
        "max_specs = [0,0,0,0]\n",
        "maximum = 0\n",
        "\n",
        "for i in range(10, 100, 4):\n",
        "  print(\"checking \" + str(i))\n",
        "  X = fmin_cobyla(objective, x0=[0.2 + 0.001*i, 2.0+0.01*i, 0.5, i], cons=[c1, c2, c3, c4, c5, c6, c7])\n",
        "  if(-objective(X) > maximum):\n",
        "    max_specs = X\n",
        "    maximum = -objective(X)"
      ],
      "execution_count": 81,
      "outputs": [
        {
          "output_type": "stream",
          "text": [
            "checking 10\n"
          ],
          "name": "stdout"
        },
        {
          "output_type": "stream",
          "text": [
            "/usr/local/lib/python3.7/dist-packages/ipykernel_launcher.py:13: RuntimeWarning: divide by zero encountered in double_scalars\n",
            "  del sys.path[0]\n",
            "/usr/local/lib/python3.7/dist-packages/ipykernel_launcher.py:33: RuntimeWarning: divide by zero encountered in double_scalars\n"
          ],
          "name": "stderr"
        },
        {
          "output_type": "stream",
          "text": [
            "checking 14\n",
            "checking 18\n",
            "checking 22\n",
            "checking 26\n",
            "checking 30\n",
            "checking 34\n",
            "checking 38\n",
            "checking 42\n",
            "checking 46\n",
            "checking 50\n",
            "checking 54\n",
            "checking 58\n",
            "checking 62\n",
            "checking 66\n",
            "checking 70\n",
            "checking 74\n",
            "checking 78\n",
            "checking 82\n",
            "checking 86\n",
            "checking 90\n",
            "checking 94\n",
            "checking 98\n"
          ],
          "name": "stdout"
        }
      ]
    },
    {
      "cell_type": "code",
      "metadata": {
        "colab": {
          "base_uri": "https://localhost:8080/"
        },
        "id": "xQevxIv0su04",
        "outputId": "5b6f7279-a544-4aa3-b050-bbf738a37965"
      },
      "source": [
        "p, v, a, Fnet, Fg, Fd, Mi, i = rocket_launch(max_specs[0], max_specs[1], max_specs[2], max_specs[3])\n",
        "vels = list(v)\n",
        "max_value = max(vels)\n",
        "max_index = vels.index(max_value)\n",
        "print('Radius of {0:1.2f} m.'.format(max_specs[0]))\n",
        "print('Rocket height of {0:1.2f} m'.format(max_specs[1]))\n",
        "print('Fuel Tank Percent {0:1.2f}% '.format(max_specs[2]*100))\n",
        "print('Burn Time:  {0:4f} s '.format(max_index / 100))\n",
        "print('Max Height:  {0:1.2f} m '.format(p[i]))\n",
        "print('Starting Weight:  {0:1.2f} N '.format(Fg[0]))\n",
        "print(\"Fuel tank thickness : {0:1.4f} mm\".format(tank_specs(max_specs[0], max_specs[1])[2]*1000))\n",
        "print(\"Fuel tank volume : {0:1.3f} m^3\".format(tank_specs(max_specs[0], max_specs[1])[0]))\n",
        "print(\"Quantity of Fuel : {0:1.3f} m^3\".format(tank_specs(max_specs[0], max_specs[1])[0]*max_specs[2]))\n",
        "print('Max Velocity Attained {0:1.2f} m/s.'.format(max(v)))\n",
        "print('Avg Velocity Attained {0:1.2f} m/s.'.format(np.mean(v)))"
      ],
      "execution_count": 82,
      "outputs": [
        {
          "output_type": "stream",
          "text": [
            "Radius of 0.11 m.\n",
            "Rocket height of 2.16 m\n",
            "Fuel Tank Percent 78.97% \n",
            "Burn Time:  8.600000 s \n",
            "Max Height:  5192.50 m \n",
            "Starting Weight:  673.69 N \n",
            "Fuel tank thickness : 0.2825 mm\n",
            "Fuel tank volume : 0.044 m^3\n",
            "Quantity of Fuel : 0.034 m^3\n",
            "Max Velocity Attained 705.88 m/s.\n",
            "Avg Velocity Attained 468.60 m/s.\n"
          ],
          "name": "stdout"
        }
      ]
    },
    {
      "cell_type": "code",
      "metadata": {
        "colab": {
          "base_uri": "https://localhost:8080/",
          "height": 296
        },
        "id": "Dy2S4i2vsu04",
        "outputId": "518a8b0d-f42a-4571-af85-2f7709aba295"
      },
      "source": [
        "time = np.linspace(0,X[3], int(X[3]*100))\n",
        "#plt.plot(time[:i], p[:i], label=\"Position [m]\")\n",
        "plt.plot(time[:i], v[:i], label=\"Velocity [m/s]\")\n",
        "#plt.plot(time[:i], a[:i], label=\"Acceleration[m/s^2]\")\n",
        "plt.plot(time[:i], Fnet[:i], label=\"Force[N]\")\n",
        "#plt.plot(time[:i], Fg[:i], label=\"Gravitational Force[N]\")\n",
        "plt.plot(time[:i], Fd[:i], label=\"Drag[M]\")\n",
        "#plt.plot(time[:i], Mi[:i], label=\"Mass [Kg]\")\n",
        "plt.legend(bbox_to_anchor=(1.05, 1), loc='upper left')\n",
        "plt.xlabel(\"Time [S]\")"
      ],
      "execution_count": 83,
      "outputs": [
        {
          "output_type": "execute_result",
          "data": {
            "text/plain": [
              "Text(0.5, 0, 'Time [S]')"
            ]
          },
          "metadata": {
            "tags": []
          },
          "execution_count": 83
        },
        {
          "output_type": "display_data",
          "data": {
            "image/png": "[encoded data removed]",
            "text/plain": [
              "<Figure size 432x288 with 1 Axes>"
            ]
          },
          "metadata": {
            "tags": [],
            "needs_background": "light"
          }
        }
      ]
    }
  ]
}